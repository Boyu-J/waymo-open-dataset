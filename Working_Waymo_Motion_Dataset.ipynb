{
  "nbformat": 4,
  "nbformat_minor": 0,
  "metadata": {
    "colab": {
      "provenance": [],
      "include_colab_link": true
    },
    "kernelspec": {
      "name": "python3",
      "display_name": "Python 3"
    },
    "gpuClass": "standard"
  },
  "cells": [
    {
      "cell_type": "markdown",
      "metadata": {
        "id": "view-in-github",
        "colab_type": "text"
      },
      "source": [
        "<a href=\"https://colab.research.google.com/github/Boyu-J/waymo-open-dataset/blob/master/Working_Waymo_Motion_Dataset.ipynb\" target=\"_parent\"><img src=\"https://colab.research.google.com/assets/colab-badge.svg\" alt=\"Open In Colab\"/></a>"
      ]
    },
    {
      "cell_type": "markdown",
      "metadata": {
        "id": "-pVhOfzLx9us"
      },
      "source": [
        "#Waymo Open Dataset Tutorial\n",
        "\n",
        "- Website: https://waymo.com/open\n",
        "- GitHub: https://github.com/waymo-research/waymo-open-dataset\n",
        "\n",
        "This tutorial demonstrates how to use the Waymo Open Dataset with two frames of data. Visit the [Waymo Open Dataset Website](https://waymo.com/open) to download the full dataset.\n",
        "\n",
        "To use, open this notebook in [Colab](https://colab.research.google.com).\n",
        "\n",
        "Uncheck the box \"Reset all runtimes before running\" if you run this colab directly from the remote kernel. Alternatively, you can make a copy before trying to run it by following \"File > Save copy in Drive ...\".\n",
        "\n"
      ]
    },
    {
      "cell_type": "markdown",
      "metadata": {
        "id": "WWdJUWiZdMte"
      },
      "source": [
        "## Install waymo_open_dataset package"
      ]
    },
    {
      "cell_type": "code",
      "metadata": {
        "id": "zxX_JIZrdKoR"
      },
      "source": [
        "!rm -rf waymo-od > /dev/null\n",
        "!git clone https://github.com/waymo-research/waymo-open-dataset.git waymo-od\n",
        "!cd waymo-od && git branch -a\n",
        "!cd waymo-od && git checkout remotes/origin/master\n",
        "!pip3 install --upgrade pip"
      ],
      "execution_count": null,
      "outputs": []
    },
    {
      "cell_type": "code",
      "metadata": {
        "id": "sLIUOJzSyjj6"
      },
      "source": [
        "# !pip3 install waymo-open-dataset-tf-2-6-0\n",
        "\n",
        "!pip install waymo-open-dataset-tf-2-11-0"
      ],
      "execution_count": null,
      "outputs": []
    },
    {
      "cell_type": "code",
      "metadata": {
        "id": "hDQ1DPqwdfNW"
      },
      "source": [
        "import os\n",
        "import tensorflow.compat.v1 as tf\n",
        "import math\n",
        "import numpy as np\n",
        "import itertools\n",
        "\n",
        "tf.enable_eager_execution()\n",
        "\n",
        "from waymo_open_dataset.utils import range_image_utils\n",
        "from waymo_open_dataset.utils import transform_utils\n",
        "from waymo_open_dataset.utils import  frame_utils\n",
        "from waymo_open_dataset import dataset_pb2 as open_dataset"
      ],
      "execution_count": null,
      "outputs": []
    },
    {
      "cell_type": "markdown",
      "metadata": {
        "id": "ibor0U9XBlX6"
      },
      "source": [
        "## Read one frame\n",
        "\n",
        "Each file in the dataset is a sequence of frames ordered by frame start timestamps. We have extracted two frames from the dataset to demonstrate the dataset format."
      ]
    },
    {
      "cell_type": "code",
      "metadata": {
        "id": "29uZtYLJBx2r"
      },
      "source": [
        "FILENAME = '/content/waymo-od/tutorial/frames'\n",
        "dataset = tf.data.TFRecordDataset(FILENAME, compression_type='')\n",
        "for data in dataset:\n",
        "    frame = open_dataset.Frame()\n",
        "    frame.ParseFromString(bytearray(data.numpy()))\n",
        "    break"
      ],
      "execution_count": null,
      "outputs": []
    },
    {
      "cell_type": "code",
      "metadata": {
        "id": "wHK95_JBUXUx"
      },
      "source": [
        "(range_images, camera_projections,\n",
        " _, range_image_top_pose) = frame_utils.parse_range_image_and_camera_projection(\n",
        "    frame)"
      ],
      "execution_count": null,
      "outputs": []
    },
    {
      "cell_type": "markdown",
      "metadata": {
        "id": "eorb6V2qznV_"
      },
      "source": [
        "###Examine frame context\n",
        "\n",
        "Refer to [dataset.proto](https://github.com/waymo-research/waymo-open-dataset/blob/master/waymo_open_dataset/dataset.proto) for the data format. The context contains shared information among all frames in the scene."
      ]
    },
    {
      "cell_type": "code",
      "metadata": {
        "id": "ZotEevt7S0fE"
      },
      "source": [
        "print(frame.context)"
      ],
      "execution_count": null,
      "outputs": []
    },
    {
      "cell_type": "markdown",
      "metadata": {
        "id": "_YcpB9SHkW4v"
      },
      "source": [
        "## Visualize Camera Images and Camera Labels"
      ]
    },
    {
      "cell_type": "code",
      "metadata": {
        "id": "18KfxT8RkMv0"
      },
      "source": [
        "import matplotlib.pyplot as plt\n",
        "import matplotlib.patches as patches\n",
        "\n",
        "def show_camera_image(camera_image, camera_labels, layout, cmap=None):\n",
        "  \"\"\"Show a camera image and the given camera labels.\"\"\"\n",
        "\n",
        "  ax = plt.subplot(*layout)\n",
        "\n",
        "  # Draw the camera labels.\n",
        "  for camera_labels in frame.camera_labels:\n",
        "    # Ignore camera labels that do not correspond to this camera.\n",
        "    if camera_labels.name != camera_image.name:\n",
        "      continue\n",
        "\n",
        "    # Iterate over the individual labels.\n",
        "    for label in camera_labels.labels:\n",
        "      # Draw the object bounding box.\n",
        "      ax.add_patch(patches.Rectangle(\n",
        "        xy=(label.box.center_x - 0.5 * label.box.length,\n",
        "            label.box.center_y - 0.5 * label.box.width),\n",
        "        width=label.box.length,\n",
        "        height=label.box.width,\n",
        "        linewidth=1,\n",
        "        edgecolor='red',\n",
        "        facecolor='none'))\n",
        "\n",
        "  # Show the camera image.\n",
        "  plt.imshow(tf.image.decode_jpeg(camera_image.image), cmap=cmap)\n",
        "  plt.title(open_dataset.CameraName.Name.Name(camera_image.name))\n",
        "  plt.grid(False)\n",
        "  plt.axis('off')\n",
        "\n",
        "plt.figure(figsize=(25, 20))\n",
        "\n",
        "for index, image in enumerate(frame.images):\n",
        "  show_camera_image(image, frame.camera_labels, [3, 3, index+1])"
      ],
      "execution_count": null,
      "outputs": []
    },
    {
      "cell_type": "markdown",
      "metadata": {
        "id": "JPc-xBE6VMHi"
      },
      "source": [
        "##Visualize Range Images"
      ]
    },
    {
      "cell_type": "code",
      "metadata": {
        "id": "mwZ4xcsHVO1V"
      },
      "source": [
        "plt.figure(figsize=(64, 20))\n",
        "def plot_range_image_helper(data, name, layout, vmin = 0, vmax=1, cmap='gray'):\n",
        "  \"\"\"Plots range image.\n",
        "\n",
        "  Args:\n",
        "    data: range image data\n",
        "    name: the image title\n",
        "    layout: plt layout\n",
        "    vmin: minimum value of the passed data\n",
        "    vmax: maximum value of the passed data\n",
        "    cmap: color map\n",
        "  \"\"\"\n",
        "  plt.subplot(*layout)\n",
        "  plt.imshow(data, cmap=cmap, vmin=vmin, vmax=vmax)\n",
        "  plt.title(name)\n",
        "  plt.grid(False)\n",
        "  plt.axis('off')\n",
        "\n",
        "def get_range_image(laser_name, return_index):\n",
        "  \"\"\"Returns range image given a laser name and its return index.\"\"\"\n",
        "  return range_images[laser_name][return_index]\n",
        "\n",
        "def show_range_image(range_image, layout_index_start = 1):\n",
        "  \"\"\"Shows range image.\n",
        "\n",
        "  Args:\n",
        "    range_image: the range image data from a given lidar of type MatrixFloat.\n",
        "    layout_index_start: layout offset\n",
        "  \"\"\"\n",
        "  range_image_tensor = tf.convert_to_tensor(range_image.data)\n",
        "  range_image_tensor = tf.reshape(range_image_tensor, range_image.shape.dims)\n",
        "  lidar_image_mask = tf.greater_equal(range_image_tensor, 0)\n",
        "  range_image_tensor = tf.where(lidar_image_mask, range_image_tensor,\n",
        "                                tf.ones_like(range_image_tensor) * 1e10)\n",
        "  range_image_range = range_image_tensor[...,0] \n",
        "  range_image_intensity = range_image_tensor[...,1]\n",
        "  range_image_elongation = range_image_tensor[...,2]\n",
        "  plot_range_image_helper(range_image_range.numpy(), 'range',\n",
        "                   [8, 1, layout_index_start], vmax=75, cmap='gray')\n",
        "  plot_range_image_helper(range_image_intensity.numpy(), 'intensity',\n",
        "                   [8, 1, layout_index_start + 1], vmax=1.5, cmap='gray')\n",
        "  plot_range_image_helper(range_image_elongation.numpy(), 'elongation',\n",
        "                   [8, 1, layout_index_start + 2], vmax=1.5, cmap='gray')\n",
        "frame.lasers.sort(key=lambda laser: laser.name)\n",
        "show_range_image(get_range_image(open_dataset.LaserName.TOP, 0), 1)\n",
        "show_range_image(get_range_image(open_dataset.LaserName.TOP, 1), 4)"
      ],
      "execution_count": null,
      "outputs": []
    },
    {
      "cell_type": "markdown",
      "metadata": {
        "id": "17Lwd2nVpex7"
      },
      "source": [
        "##Point Cloud Conversion and Visualization"
      ]
    },
    {
      "cell_type": "code",
      "metadata": {
        "id": "XIEDW1pfpmd-"
      },
      "source": [
        "points, cp_points = frame_utils.convert_range_image_to_point_cloud(\n",
        "    frame,\n",
        "    range_images,\n",
        "    camera_projections,\n",
        "    range_image_top_pose)\n",
        "points_ri2, cp_points_ri2 = frame_utils.convert_range_image_to_point_cloud(\n",
        "    frame,\n",
        "    range_images,\n",
        "    camera_projections,\n",
        "    range_image_top_pose,\n",
        "    ri_index=1)\n",
        "\n",
        "# 3d points in vehicle frame.\n",
        "points_all = np.concatenate(points, axis=0)\n",
        "points_all_ri2 = np.concatenate(points_ri2, axis=0)\n",
        "# camera projection corresponding to each point.\n",
        "cp_points_all = np.concatenate(cp_points, axis=0)\n",
        "cp_points_all_ri2 = np.concatenate(cp_points_ri2, axis=0)"
      ],
      "execution_count": null,
      "outputs": []
    },
    {
      "cell_type": "markdown",
      "metadata": {
        "id": "5MAKwTRWz3af"
      },
      "source": [
        "###Examine number of points in each lidar sensor."
      ]
    },
    {
      "cell_type": "markdown",
      "metadata": {
        "id": "E5_e4BCAGfYX"
      },
      "source": [
        "First return."
      ]
    },
    {
      "cell_type": "code",
      "metadata": {
        "id": "bpsAJp2CqKrE"
      },
      "source": [
        "print(points_all.shape)\n",
        "print(cp_points_all.shape)\n",
        "print(points_all[0:2])\n",
        "for i in range(5):\n",
        "  print(points[i].shape)\n",
        "  print(cp_points[i].shape)"
      ],
      "execution_count": null,
      "outputs": []
    },
    {
      "cell_type": "markdown",
      "metadata": {
        "id": "n3cdlVYFGiE_"
      },
      "source": [
        "Second return."
      ]
    },
    {
      "cell_type": "code",
      "metadata": {
        "id": "QX6aj2EDGlRo"
      },
      "source": [
        "print(points_all_ri2.shape)\n",
        "print(cp_points_all_ri2.shape)\n",
        "print(points_all_ri2[0:2])\n",
        "for i in range(5):\n",
        "  print(points_ri2[i].shape)\n",
        "  print(cp_points_ri2[i].shape)"
      ],
      "execution_count": null,
      "outputs": []
    },
    {
      "cell_type": "markdown",
      "metadata": {
        "id": "PCj3SDbuq9Nr"
      },
      "source": [
        "###Show point cloud\n",
        "3D point clouds are rendered using an internal tool, which is unfortunately not publicly available yet. Here is an example of what they look like."
      ]
    },
    {
      "cell_type": "code",
      "metadata": {
        "id": "K8VFnGnOq6cO"
      },
      "source": [
        "from IPython.display import Image, display\n",
        "display(Image('/content/waymo-od/tutorial/3d_point_cloud.png'))"
      ],
      "execution_count": null,
      "outputs": []
    },
    {
      "cell_type": "markdown",
      "metadata": {
        "id": "HiGOSt4mr0xA"
      },
      "source": [
        "##Visualize Camera Projection"
      ]
    },
    {
      "cell_type": "code",
      "metadata": {
        "id": "yRMUN-hur9wO"
      },
      "source": [
        "images = sorted(frame.images, key=lambda i:i.name)\n",
        "cp_points_all_concat = np.concatenate([cp_points_all, points_all], axis=-1)\n",
        "cp_points_all_concat_tensor = tf.constant(cp_points_all_concat)\n",
        "\n",
        "# The distance between lidar points and vehicle frame origin.\n",
        "points_all_tensor = tf.norm(points_all, axis=-1, keepdims=True)\n",
        "cp_points_all_tensor = tf.constant(cp_points_all, dtype=tf.int32)\n",
        "\n",
        "mask = tf.equal(cp_points_all_tensor[..., 0], images[0].name)\n",
        "\n",
        "cp_points_all_tensor = tf.cast(tf.gather_nd(\n",
        "    cp_points_all_tensor, tf.where(mask)), dtype=tf.float32)\n",
        "points_all_tensor = tf.gather_nd(points_all_tensor, tf.where(mask))\n",
        "\n",
        "projected_points_all_from_raw_data = tf.concat(\n",
        "    [cp_points_all_tensor[..., 1:3], points_all_tensor], axis=-1).numpy()"
      ],
      "execution_count": null,
      "outputs": []
    },
    {
      "cell_type": "code",
      "metadata": {
        "id": "Invsxz0xsXNA"
      },
      "source": [
        "def rgba(r):\n",
        "  \"\"\"Generates a color based on range.\n",
        "\n",
        "  Args:\n",
        "    r: the range value of a given point.\n",
        "  Returns:\n",
        "    The color for a given range\n",
        "  \"\"\"\n",
        "  c = plt.get_cmap('jet')((r % 20.0) / 20.0)\n",
        "  c = list(c)\n",
        "  c[-1] = 0.5  # alpha\n",
        "  return c\n",
        "\n",
        "def plot_image(camera_image):\n",
        "  \"\"\"Plot a cmaera image.\"\"\"\n",
        "  plt.figure(figsize=(20, 12))\n",
        "  plt.imshow(tf.image.decode_jpeg(camera_image.image))\n",
        "  plt.grid(\"off\")\n",
        "\n",
        "def plot_points_on_image(projected_points, camera_image, rgba_func,\n",
        "                         point_size=5.0):\n",
        "  \"\"\"Plots points on a camera image.\n",
        "\n",
        "  Args:\n",
        "    projected_points: [N, 3] numpy array. The inner dims are\n",
        "      [camera_x, camera_y, range].\n",
        "    camera_image: jpeg encoded camera image.\n",
        "    rgba_func: a function that generates a color from a range value.\n",
        "    point_size: the point size.\n",
        "\n",
        "  \"\"\"\n",
        "  plot_image(camera_image)\n",
        "\n",
        "  xs = []\n",
        "  ys = []\n",
        "  colors = []\n",
        "\n",
        "  for point in projected_points:\n",
        "    xs.append(point[0])  # width, col\n",
        "    ys.append(point[1])  # height, row\n",
        "    colors.append(rgba_func(point[2]))\n",
        "\n",
        "  plt.scatter(xs, ys, c=colors, s=point_size, edgecolors=\"none\")"
      ],
      "execution_count": null,
      "outputs": []
    },
    {
      "cell_type": "code",
      "metadata": {
        "id": "fx7mUQM2saI-"
      },
      "source": [
        "plot_points_on_image(projected_points_all_from_raw_data,\n",
        "                     images[0], rgba, point_size=5.0)"
      ],
      "execution_count": null,
      "outputs": []
    },
    {
      "cell_type": "markdown",
      "metadata": {
        "id": "6rPeRqI54sBh"
      },
      "source": [
        "## Install from source code\n",
        "\n",
        "The remaining part of this colab covers details of installing the repo form source code which provides a richer API."
      ]
    },
    {
      "cell_type": "markdown",
      "metadata": {
        "id": "C8b-R3v1-6Eg"
      },
      "source": [
        "### Install dependencies"
      ]
    },
    {
      "cell_type": "code",
      "metadata": {
        "id": "HhD5nAIV-5Hj"
      },
      "source": [
        "!sudo apt install build-essential\n",
        "!sudo apt-get install --assume-yes pkg-config zip g++ zlib1g-dev unzip python3 python3-pip\n",
        "!wget https://github.com/bazelbuild/bazel/releases/download/0.28.0/bazel-0.28.0-installer-linux-x86_64.sh\n",
        "!sudo bash ./bazel-0.28.0-installer-linux-x86_64.sh"
      ],
      "execution_count": null,
      "outputs": []
    },
    {
      "cell_type": "markdown",
      "metadata": {
        "id": "etZQJlyu_N-_"
      },
      "source": [
        "###Build and test (this can take 10 mins)"
      ]
    },
    {
      "cell_type": "markdown",
      "metadata": {
        "id": "EJmk8o-S_Flm"
      },
      "source": [
        "Configure .bazelrc. This works with/without Tensorflow. This colab machine has Tensorflow installed."
      ]
    },
    {
      "cell_type": "code",
      "metadata": {
        "id": "KscXNRZo_Rtg",
        "outputId": "f2fe9cb5-eb54-4728-caf3-1fabf9ce5f3a",
        "colab": {
          "base_uri": "https://localhost:8080/"
        }
      },
      "source": [
        "!cd waymo-od && ./configure.sh && cat .bazelrc && bazel clean"
      ],
      "execution_count": 5,
      "outputs": [
        {
          "output_type": "stream",
          "name": "stdout",
          "text": [
            "/bin/bash: ./configure.sh: No such file or directory\n"
          ]
        }
      ]
    },
    {
      "cell_type": "code",
      "metadata": {
        "id": "56xb_Ckj_8ZL"
      },
      "source": [
        "!cd waymo-od && bazel build ... --show_progress_rate_limit=10.0"
      ],
      "execution_count": null,
      "outputs": []
    },
    {
      "cell_type": "markdown",
      "metadata": {
        "id": "P8pO1b1EALPA"
      },
      "source": [
        "### Metrics computation\n",
        "The core metrics computation library is written in C++, so it can be extended to other programming languages. It can compute detection metrics (mAP) and tracking metrics (MOTA). See more information about the metrics on the [website](https://waymo.com/open/next/).\n",
        "\n",
        "We provide command line tools and TensorFlow ops to call the detection metrics library to compute detection metrics. We will provide a similar wrapper for tracking metrics library in the future. You are welcome to contribute your wrappers."
      ]
    },
    {
      "cell_type": "markdown",
      "metadata": {
        "id": "UIBufmNJBdGR"
      },
      "source": [
        "#### Command line detection metrics computation\n",
        "\n",
        "The command takes a pair of files for prediction and ground truth. Read the comment in waymo_open_dataset/metrics/tools/compute_detection_metrics_main.cc for details of the data format."
      ]
    },
    {
      "cell_type": "code",
      "metadata": {
        "id": "bDGzTcNgBVG-",
        "outputId": "198b2de9-9715-494c-b288-40597273c16e",
        "colab": {
          "base_uri": "https://localhost:8080/"
        }
      },
      "source": [
        "!cd waymo-od && bazel-bin/waymo_open_dataset/metrics/tools/compute_detection_metrics_main waymo_open_dataset/metrics/tools/fake_predictions.bin  waymo_open_dataset/metrics/tools/fake_ground_truths.bin"
      ],
      "execution_count": 7,
      "outputs": [
        {
          "output_type": "stream",
          "name": "stdout",
          "text": [
            "/bin/bash: bazel-bin/waymo_open_dataset/metrics/tools/compute_detection_metrics_main: No such file or directory\n"
          ]
        }
      ]
    },
    {
      "cell_type": "markdown",
      "metadata": {
        "id": "LJn7Z9AjBii-"
      },
      "source": [
        "#### TensorFlow custom op\n",
        "\n",
        "A TensorFlow op is defined at metrics/ops/metrics_ops.cc. We provide a python wrapper of the op at metrics/ops/py_metrics_ops.py, and a tf.metrics-like implementation of the op at metrics/python/detection_metrics.py. This library requires TensorFlow to be installed."
      ]
    },
    {
      "cell_type": "markdown",
      "metadata": {
        "id": "WB_BdDAYCQ62"
      },
      "source": [
        "Install TensorFlow and NumPy."
      ]
    },
    {
      "cell_type": "code",
      "metadata": {
        "id": "iXQqouc9CVWe"
      },
      "source": [
        "!pip3 install numpy tensorflow"
      ],
      "execution_count": null,
      "outputs": []
    },
    {
      "cell_type": "markdown",
      "metadata": {
        "id": "AURmNltwCYFx"
      },
      "source": [
        "Reconfigure .bazelrc such that you can compile the TensorFlow ops"
      ]
    },
    {
      "cell_type": "code",
      "metadata": {
        "id": "7jr2qkwYChDp",
        "colab": {
          "base_uri": "https://localhost:8080/"
        },
        "outputId": "5379897f-ecee-483f-f41d-35448508510f"
      },
      "source": [
        "!cd waymo-od && ./configure.sh && cat .bazelrc"
      ],
      "execution_count": 9,
      "outputs": [
        {
          "output_type": "stream",
          "name": "stdout",
          "text": [
            "/bin/bash: ./configure.sh: No such file or directory\n"
          ]
        }
      ]
    },
    {
      "cell_type": "markdown",
      "metadata": {
        "id": "WkVOvmP4EOmD"
      },
      "source": [
        "Run the op and tf.metrics wrapper unit tests which can be referenced as example usage of the libraries."
      ]
    },
    {
      "cell_type": "code",
      "metadata": {
        "id": "4ArMxYB1E9j-",
        "colab": {
          "base_uri": "https://localhost:8080/"
        },
        "outputId": "e85504f2-d9e5-445e-da77-e70d8389059f"
      },
      "source": [
        "!cd waymo-od && bazel test waymo_open_dataset/metrics/ops/... && bazel test waymo_open_dataset/metrics/python/..."
      ],
      "execution_count": 10,
      "outputs": [
        {
          "output_type": "stream",
          "name": "stdout",
          "text": [
            "ERROR: The 'test' command is only supported from within a workspace (below a directory having a WORKSPACE file).\n",
            "See documentation at https://docs.bazel.build/versions/master/build-ref.html#workspace\n",
            "WARNING: --batch mode is deprecated. Please instead explicitly shut down your Bazel server using the command \"bazel shutdown\".\n"
          ]
        }
      ]
    },
    {
      "cell_type": "markdown",
      "metadata": {
        "id": "923OIUNSFCFw"
      },
      "source": [
        "Run all tests in the repo."
      ]
    },
    {
      "cell_type": "code",
      "metadata": {
        "id": "ytEO4tE3FHKo",
        "colab": {
          "base_uri": "https://localhost:8080/"
        },
        "outputId": "743124c1-130a-4a07-b9b2-cb56ec9dd07b"
      },
      "source": [
        "!cd waymo-od && bazel test ..."
      ],
      "execution_count": 11,
      "outputs": [
        {
          "output_type": "stream",
          "name": "stdout",
          "text": [
            "ERROR: The 'test' command is only supported from within a workspace (below a directory having a WORKSPACE file).\n",
            "See documentation at https://docs.bazel.build/versions/master/build-ref.html#workspace\n",
            "WARNING: --batch mode is deprecated. Please instead explicitly shut down your Bazel server using the command \"bazel shutdown\".\n"
          ]
        }
      ]
    },
    {
      "cell_type": "markdown",
      "metadata": {
        "id": "_FpcGDRnAElo"
      },
      "source": [
        "### Build local PIP package"
      ]
    },
    {
      "cell_type": "code",
      "metadata": {
        "id": "ZwnPUOgVAHec",
        "colab": {
          "base_uri": "https://localhost:8080/"
        },
        "outputId": "6c7a71b0-50e5-44bc-f312-28c281f24bcd"
      },
      "source": [
        "!cd waymo-od && export PYTHON_VERSION=3 && ./pip_pkg_scripts/build.sh"
      ],
      "execution_count": 12,
      "outputs": [
        {
          "output_type": "stream",
          "name": "stdout",
          "text": [
            "/bin/bash: ./pip_pkg_scripts/build.sh: No such file or directory\n"
          ]
        }
      ]
    },
    {
      "cell_type": "markdown",
      "metadata": {
        "id": "vWcqyWarUbCv"
      },
      "source": [
        "You can install the locally compiled package or access any c++ binary compiled from this."
      ]
    },
    {
      "cell_type": "code",
      "source": [
        "import math\n",
        "import os\n",
        "import uuid\n",
        "import time\n",
        "\n",
        "from matplotlib import cm\n",
        "import matplotlib.animation as animation\n",
        "import matplotlib.pyplot as plt\n",
        "\n",
        "import numpy as np\n",
        "from IPython.display import HTML\n",
        "import itertools\n",
        "import tensorflow as tf\n",
        "\n",
        "from google.protobuf import text_format\n",
        "from waymo_open_dataset.metrics.ops import py_metrics_ops\n",
        "from waymo_open_dataset.metrics.python import config_util_py as config_util\n",
        "from waymo_open_dataset.protos import motion_metrics_pb2\n",
        "\n",
        "# Example field definition, change 20000 to 30000\n",
        "roadgraph_features = {\n",
        "    'roadgraph_samples/dir':\n",
        "        tf.io.FixedLenFeature([30000, 3], tf.float32, default_value=None),\n",
        "    'roadgraph_samples/id':\n",
        "        tf.io.FixedLenFeature([30000, 1], tf.int64, default_value=None),\n",
        "    'roadgraph_samples/type':\n",
        "        tf.io.FixedLenFeature([30000, 1], tf.int64, default_value=None),\n",
        "    'roadgraph_samples/valid':\n",
        "        tf.io.FixedLenFeature([30000, 1], tf.int64, default_value=None),\n",
        "    'roadgraph_samples/xyz':\n",
        "        tf.io.FixedLenFeature([30000, 3], tf.float32, default_value=None),\n",
        "}\n",
        "\n",
        "# Features of other agents.\n",
        "state_features = {\n",
        "    'state/id':\n",
        "        tf.io.FixedLenFeature([128], tf.float32, default_value=None),\n",
        "    'state/type':\n",
        "        tf.io.FixedLenFeature([128], tf.float32, default_value=None),\n",
        "    'state/is_sdc':\n",
        "        tf.io.FixedLenFeature([128], tf.int64, default_value=None),\n",
        "    'state/tracks_to_predict':\n",
        "        tf.io.FixedLenFeature([128], tf.int64, default_value=None),\n",
        "    'state/current/bbox_yaw':\n",
        "        tf.io.FixedLenFeature([128, 1], tf.float32, default_value=None),\n",
        "    'state/current/height':\n",
        "        tf.io.FixedLenFeature([128, 1], tf.float32, default_value=None),\n",
        "    'state/current/length':\n",
        "        tf.io.FixedLenFeature([128, 1], tf.float32, default_value=None),\n",
        "    'state/current/timestamp_micros':\n",
        "        tf.io.FixedLenFeature([128, 1], tf.int64, default_value=None),\n",
        "    'state/current/valid':\n",
        "        tf.io.FixedLenFeature([128, 1], tf.int64, default_value=None),\n",
        "    'state/current/vel_yaw':\n",
        "        tf.io.FixedLenFeature([128, 1], tf.float32, default_value=None),\n",
        "    'state/current/velocity_x':\n",
        "        tf.io.FixedLenFeature([128, 1], tf.float32, default_value=None),\n",
        "    'state/current/velocity_y':\n",
        "        tf.io.FixedLenFeature([128, 1], tf.float32, default_value=None),\n",
        "    'state/current/width':\n",
        "        tf.io.FixedLenFeature([128, 1], tf.float32, default_value=None),\n",
        "    'state/current/x':\n",
        "        tf.io.FixedLenFeature([128, 1], tf.float32, default_value=None),\n",
        "    'state/current/y':\n",
        "        tf.io.FixedLenFeature([128, 1], tf.float32, default_value=None),\n",
        "    'state/current/z':\n",
        "        tf.io.FixedLenFeature([128, 1], tf.float32, default_value=None),\n",
        "    'state/future/bbox_yaw':\n",
        "        tf.io.FixedLenFeature([128, 80], tf.float32, default_value=None),\n",
        "    'state/future/height':\n",
        "        tf.io.FixedLenFeature([128, 80], tf.float32, default_value=None),\n",
        "    'state/future/length':\n",
        "        tf.io.FixedLenFeature([128, 80], tf.float32, default_value=None),\n",
        "    'state/future/timestamp_micros':\n",
        "        tf.io.FixedLenFeature([128, 80], tf.int64, default_value=None),\n",
        "    'state/future/valid':\n",
        "        tf.io.FixedLenFeature([128, 80], tf.int64, default_value=None),\n",
        "    'state/future/vel_yaw':\n",
        "        tf.io.FixedLenFeature([128, 80], tf.float32, default_value=None),\n",
        "    'state/future/velocity_x':\n",
        "        tf.io.FixedLenFeature([128, 80], tf.float32, default_value=None),\n",
        "    'state/future/velocity_y':\n",
        "        tf.io.FixedLenFeature([128, 80], tf.float32, default_value=None),\n",
        "    'state/future/width':\n",
        "        tf.io.FixedLenFeature([128, 80], tf.float32, default_value=None),\n",
        "    'state/future/x':\n",
        "        tf.io.FixedLenFeature([128, 80], tf.float32, default_value=None),\n",
        "    'state/future/y':\n",
        "        tf.io.FixedLenFeature([128, 80], tf.float32, default_value=None),\n",
        "    'state/future/z':\n",
        "        tf.io.FixedLenFeature([128, 80], tf.float32, default_value=None),\n",
        "    'state/past/bbox_yaw':\n",
        "        tf.io.FixedLenFeature([128, 10], tf.float32, default_value=None),\n",
        "    'state/past/height':\n",
        "        tf.io.FixedLenFeature([128, 10], tf.float32, default_value=None),\n",
        "    'state/past/length':\n",
        "        tf.io.FixedLenFeature([128, 10], tf.float32, default_value=None),\n",
        "    'state/past/timestamp_micros':\n",
        "        tf.io.FixedLenFeature([128, 10], tf.int64, default_value=None),\n",
        "    'state/past/valid':\n",
        "        tf.io.FixedLenFeature([128, 10], tf.int64, default_value=None),\n",
        "    'state/past/vel_yaw':\n",
        "        tf.io.FixedLenFeature([128, 10], tf.float32, default_value=None),\n",
        "    'state/past/velocity_x':\n",
        "        tf.io.FixedLenFeature([128, 10], tf.float32, default_value=None),\n",
        "    'state/past/velocity_y':\n",
        "        tf.io.FixedLenFeature([128, 10], tf.float32, default_value=None),\n",
        "    'state/past/width':\n",
        "        tf.io.FixedLenFeature([128, 10], tf.float32, default_value=None),\n",
        "    'state/past/x':\n",
        "        tf.io.FixedLenFeature([128, 10], tf.float32, default_value=None),\n",
        "    'state/past/y':\n",
        "        tf.io.FixedLenFeature([128, 10], tf.float32, default_value=None),\n",
        "    'state/past/z':\n",
        "        tf.io.FixedLenFeature([128, 10], tf.float32, default_value=None),\n",
        "}\n",
        "\n",
        "traffic_light_features = {\n",
        "    'traffic_light_state/current/state':\n",
        "        tf.io.FixedLenFeature([1, 16], tf.int64, default_value=None),\n",
        "    'traffic_light_state/current/valid':\n",
        "        tf.io.FixedLenFeature([1, 16], tf.int64, default_value=None),\n",
        "    'traffic_light_state/current/x':\n",
        "        tf.io.FixedLenFeature([1, 16], tf.float32, default_value=None),\n",
        "    'traffic_light_state/current/y':\n",
        "        tf.io.FixedLenFeature([1, 16], tf.float32, default_value=None),\n",
        "    'traffic_light_state/current/z':\n",
        "        tf.io.FixedLenFeature([1, 16], tf.float32, default_value=None),\n",
        "    'traffic_light_state/past/state':\n",
        "        tf.io.FixedLenFeature([10, 16], tf.int64, default_value=None),\n",
        "    'traffic_light_state/past/valid':\n",
        "        tf.io.FixedLenFeature([10, 16], tf.int64, default_value=None),\n",
        "    'traffic_light_state/past/x':\n",
        "        tf.io.FixedLenFeature([10, 16], tf.float32, default_value=None),\n",
        "    'traffic_light_state/past/y':\n",
        "        tf.io.FixedLenFeature([10, 16], tf.float32, default_value=None),\n",
        "    'traffic_light_state/past/z':\n",
        "        tf.io.FixedLenFeature([10, 16], tf.float32, default_value=None),\n",
        "}\n",
        "\n",
        "features_description = {}\n",
        "features_description.update(roadgraph_features)\n",
        "features_description.update(state_features)\n",
        "features_description.update(traffic_light_features)"
      ],
      "metadata": {
        "id": "SIbW_sA1uHlD"
      },
      "execution_count": 13,
      "outputs": []
    },
    {
      "cell_type": "code",
      "source": [
        "# import tensorflow as tf\n",
        "from waymo_open_dataset.protos import scenario_pb2"
      ],
      "metadata": {
        "id": "IkkbMFZ-vNhH"
      },
      "execution_count": 10,
      "outputs": []
    },
    {
      "cell_type": "code",
      "source": [
        "# Data location. Please edit.\n",
        "\n",
        "# A tfrecord containing tf.Example protos as downloaded from the Waymo dataset\n",
        "# webpage.\n",
        "\n",
        "# Replace this path with your own tfrecords.\n",
        "\n",
        "FILENAME = '/content/drive/Shareddrives/Waymo Data Challenge/Raw data-Waymo Motion/scenario/scenario/training/training.tfrecord-00009-of-01000'"
      ],
      "metadata": {
        "id": "P80XyJy8tts4"
      },
      "execution_count": 68,
      "outputs": []
    },
    {
      "cell_type": "code",
      "source": [
        "dataset = tf.data.TFRecordDataset(FILENAME, compression_type='')\n",
        "# data = next(dataset.as_numpy_iterator())\n",
        "# parsed = tf.io.parse_single_example(data, features_description)"
      ],
      "metadata": {
        "id": "ehS6RvILuLPL"
      },
      "execution_count": 69,
      "outputs": []
    },
    {
      "cell_type": "code",
      "source": [
        "def process_waymo_data_with_scenario_proto(data_file, output_path=None):\n",
        "    dataset = tf.data.TFRecordDataset(data_file, compression_type='')\n",
        "    ret_infos = []\n",
        "    for cnt, data in enumerate(dataset):\n",
        "        info = {}\n",
        "        scenario = scenario_pb2.Scenario()\n",
        "        scenario.ParseFromString(bytearray(data.numpy()))\n",
        "\n",
        "        info['scenario_id'] = scenario.scenario_id\n",
        "        info['timestamps_seconds'] = list(scenario.timestamps_seconds)  # list of int of shape (91)\n",
        "        info['current_time_index'] = scenario.current_time_index  # int, 10\n",
        "        info['sdc_track_index'] = scenario.sdc_track_index  # int\n",
        "        info['objects_of_interest'] = list(scenario.objects_of_interest)  # list, could be empty list\n",
        "\n",
        "        info['tracks_to_predict'] = {\n",
        "            'track_index': [cur_pred.track_index for cur_pred in scenario.tracks_to_predict],\n",
        "            'difficulty': [cur_pred.difficulty for cur_pred in scenario.tracks_to_predict]\n",
        "        }  # for training: suggestion of objects to train on, for val/test: need to be predicted\n",
        "      \n",
        "    return info\n"
      ],
      "metadata": {
        "id": "IK4lgGSasN1N"
      },
      "execution_count": 11,
      "outputs": []
    },
    {
      "cell_type": "code",
      "source": [
        "for cnt, data in enumerate(dataset):\n",
        "  break"
      ],
      "metadata": {
        "id": "oUODAba-xbqm"
      },
      "execution_count": 70,
      "outputs": []
    },
    {
      "cell_type": "code",
      "source": [
        "scenario = scenario_pb2.Scenario()\n",
        "scenario.ParseFromString(bytearray(data.numpy()))"
      ],
      "metadata": {
        "id": "tbbSgDhby3ur",
        "outputId": "c751a77f-f97a-4f87-ee15-281698a84e8c",
        "colab": {
          "base_uri": "https://localhost:8080/"
        }
      },
      "execution_count": 71,
      "outputs": [
        {
          "output_type": "execute_result",
          "data": {
            "text/plain": [
              "1758098"
            ]
          },
          "metadata": {},
          "execution_count": 71
        }
      ]
    },
    {
      "cell_type": "code",
      "source": [
        "\n",
        "object_type = {\n",
        "    0: 'TYPE_UNSET',\n",
        "    1: 'TYPE_VEHICLE',\n",
        "    2: 'TYPE_PEDESTRIAN',\n",
        "    3: 'TYPE_CYCLIST',\n",
        "    4: 'TYPE_OTHER'\n",
        "}\n",
        "\n",
        "lane_type = {\n",
        "    0: 'TYPE_UNDEFINED',\n",
        "    1: 'TYPE_FREEWAY',\n",
        "    2: 'TYPE_SURFACE_STREET',\n",
        "    3: 'TYPE_BIKE_LANE'\n",
        "}\n",
        "\n",
        "road_line_type = {\n",
        "    0: 'TYPE_UNKNOWN',\n",
        "    1: 'TYPE_BROKEN_SINGLE_WHITE',\n",
        "    2: 'TYPE_SOLID_SINGLE_WHITE',\n",
        "    3: 'TYPE_SOLID_DOUBLE_WHITE',\n",
        "    4: 'TYPE_BROKEN_SINGLE_YELLOW',\n",
        "    5: 'TYPE_BROKEN_DOUBLE_YELLOW',\n",
        "    6: 'TYPE_SOLID_SINGLE_YELLOW',\n",
        "    7: 'TYPE_SOLID_DOUBLE_YELLOW',\n",
        "    8: 'TYPE_PASSING_DOUBLE_YELLOW'\n",
        "}\n",
        "\n",
        "road_edge_type = {\n",
        "    0: 'TYPE_UNKNOWN',\n",
        "    # // Physical road boundary that doesn't have traffic on the other side (e.g.,\n",
        "    # // a curb or the k-rail on the right side of a freeway).\n",
        "    1: 'TYPE_ROAD_EDGE_BOUNDARY',\n",
        "    # // Physical road boundary that separates the car from other traffic\n",
        "    # // (e.g. a k-rail or an island).\n",
        "    2: 'TYPE_ROAD_EDGE_MEDIAN'\n",
        "}\n",
        "\n",
        "polyline_type = {\n",
        "    # for lane\n",
        "    'TYPE_UNDEFINED': -1,\n",
        "    'TYPE_FREEWAY': 1,\n",
        "    'TYPE_SURFACE_STREET': 2,\n",
        "    'TYPE_BIKE_LANE': 3,\n",
        "\n",
        "    # for roadline\n",
        "    'TYPE_UNKNOWN': -1,\n",
        "    'TYPE_BROKEN_SINGLE_WHITE': 6,\n",
        "    'TYPE_SOLID_SINGLE_WHITE': 7,\n",
        "    'TYPE_SOLID_DOUBLE_WHITE': 8,\n",
        "    'TYPE_BROKEN_SINGLE_YELLOW': 9,\n",
        "    'TYPE_BROKEN_DOUBLE_YELLOW': 10,\n",
        "    'TYPE_SOLID_SINGLE_YELLOW': 11,\n",
        "    'TYPE_SOLID_DOUBLE_YELLOW': 12,\n",
        "    'TYPE_PASSING_DOUBLE_YELLOW': 13,\n",
        "\n",
        "    # for roadedge\n",
        "    'TYPE_ROAD_EDGE_BOUNDARY': 15,\n",
        "    'TYPE_ROAD_EDGE_MEDIAN': 16,\n",
        "\n",
        "    # for stopsign\n",
        "    'TYPE_STOP_SIGN': 17,\n",
        "\n",
        "    # for crosswalk\n",
        "    'TYPE_CROSSWALK': 18,\n",
        "\n",
        "    # for speed bump\n",
        "    'TYPE_SPEED_BUMP': 19\n",
        "}\n",
        "\n",
        "\n",
        "signal_state = {\n",
        "    0: 'LANE_STATE_UNKNOWN',\n",
        "\n",
        "    # // States for traffic signals with arrows.\n",
        "    1: 'LANE_STATE_ARROW_STOP',\n",
        "    2: 'LANE_STATE_ARROW_CAUTION',\n",
        "    3: 'LANE_STATE_ARROW_GO',\n",
        "\n",
        "    # // Standard round traffic signals.\n",
        "    4: 'LANE_STATE_STOP',\n",
        "    5: 'LANE_STATE_CAUTION',\n",
        "    6: 'LANE_STATE_GO',\n",
        "\n",
        "    # // Flashing light signals.\n",
        "    7: 'LANE_STATE_FLASHING_STOP',\n",
        "    8: 'LANE_STATE_FLASHING_CAUTION'\n",
        "}\n",
        "\n",
        "signal_state_to_id = {}\n",
        "for key, val in signal_state.items():\n",
        "    signal_state_to_id[val] = key\n",
        "\n",
        "\n",
        "\n",
        "def get_polyline_dir(polyline):\n",
        "    polyline_pre = np.roll(polyline, shift=1, axis=0)\n",
        "    polyline_pre[0] = polyline[0]\n",
        "    diff = polyline - polyline_pre\n",
        "    polyline_dir = diff / np.clip(np.linalg.norm(diff, axis=-1)[:, np.newaxis], a_min=1e-6, a_max=1000000000)\n",
        "    return polyline_dir"
      ],
      "metadata": {
        "id": "RLsoy4oz4kbS"
      },
      "execution_count": 66,
      "outputs": []
    },
    {
      "cell_type": "code",
      "source": [
        "import numpy as np\n",
        "\n",
        "map_Feature = decode_map_features_from_proto(scenario.map_features)"
      ],
      "metadata": {
        "id": "EAzaQa4JzYdR",
        "outputId": "f4a29b0f-23c8-4014-cece-50c22328eb4f",
        "colab": {
          "base_uri": "https://localhost:8080/",
          "height": 739
        }
      },
      "execution_count": 72,
      "outputs": [
        {
          "output_type": "stream",
          "name": "stdout",
          "text": [
            "id: 1086\n",
            "driveway {\n",
            "  polygon {\n",
            "    x: 6735.626482497235\n",
            "    y: 4068.652918783579\n",
            "    z: -17.031317394459446\n",
            "  }\n",
            "  polygon {\n",
            "    x: 6739.908999738149\n",
            "    y: 4068.7971023520495\n",
            "    z: -17.031317394459446\n",
            "  }\n",
            "  polygon {\n",
            "    x: 6740.085886319931\n",
            "    y: 4079.832690853299\n",
            "    z: -17.031317394459446\n",
            "  }\n",
            "  polygon {\n",
            "    x: 6735.505454835319\n",
            "    y: 4079.7439625032894\n",
            "    z: -17.031317394459446\n",
            "  }\n",
            "}\n",
            "\n"
          ]
        },
        {
          "output_type": "error",
          "ename": "ValueError",
          "evalue": "ignored",
          "traceback": [
            "\u001b[0;31m---------------------------------------------------------------------------\u001b[0m",
            "\u001b[0;31mValueError\u001b[0m                                Traceback (most recent call last)",
            "\u001b[0;32m<ipython-input-72-9b521ef4efe5>\u001b[0m in \u001b[0;36m<cell line: 3>\u001b[0;34m()\u001b[0m\n\u001b[1;32m      1\u001b[0m \u001b[0;32mimport\u001b[0m \u001b[0mnumpy\u001b[0m \u001b[0;32mas\u001b[0m \u001b[0mnp\u001b[0m\u001b[0;34m\u001b[0m\u001b[0;34m\u001b[0m\u001b[0m\n\u001b[1;32m      2\u001b[0m \u001b[0;34m\u001b[0m\u001b[0m\n\u001b[0;32m----> 3\u001b[0;31m \u001b[0mmap_Feature\u001b[0m \u001b[0;34m=\u001b[0m \u001b[0mdecode_map_features_from_proto\u001b[0m\u001b[0;34m(\u001b[0m\u001b[0mscenario\u001b[0m\u001b[0;34m.\u001b[0m\u001b[0mmap_features\u001b[0m\u001b[0;34m)\u001b[0m\u001b[0;34m\u001b[0m\u001b[0;34m\u001b[0m\u001b[0m\n\u001b[0m",
            "\u001b[0;32m<ipython-input-60-9604a3773f2a>\u001b[0m in \u001b[0;36mdecode_map_features_from_proto\u001b[0;34m(map_features)\u001b[0m\n\u001b[1;32m     89\u001b[0m         \u001b[0;32melse\u001b[0m\u001b[0;34m:\u001b[0m\u001b[0;34m\u001b[0m\u001b[0;34m\u001b[0m\u001b[0m\n\u001b[1;32m     90\u001b[0m             \u001b[0mprint\u001b[0m\u001b[0;34m(\u001b[0m\u001b[0mcur_data\u001b[0m\u001b[0;34m)\u001b[0m\u001b[0;34m\u001b[0m\u001b[0;34m\u001b[0m\u001b[0m\n\u001b[0;32m---> 91\u001b[0;31m             \u001b[0;32mraise\u001b[0m \u001b[0mValueError\u001b[0m\u001b[0;34m\u001b[0m\u001b[0;34m\u001b[0m\u001b[0m\n\u001b[0m\u001b[1;32m     92\u001b[0m \u001b[0;34m\u001b[0m\u001b[0m\n\u001b[1;32m     93\u001b[0m         \u001b[0mpolylines\u001b[0m\u001b[0;34m.\u001b[0m\u001b[0mappend\u001b[0m\u001b[0;34m(\u001b[0m\u001b[0mcur_polyline\u001b[0m\u001b[0;34m)\u001b[0m\u001b[0;34m\u001b[0m\u001b[0;34m\u001b[0m\u001b[0m\n",
            "\u001b[0;31mValueError\u001b[0m: "
          ]
        }
      ]
    },
    {
      "cell_type": "code",
      "source": [
        "def decode_map_features_from_proto(map_features):\n",
        "    map_infos = {\n",
        "        'lane': [],\n",
        "        'road_line': [],\n",
        "        'road_edge': [],\n",
        "        'stop_sign': [],\n",
        "        'crosswalk': [],\n",
        "        'speed_bump': []\n",
        "    }\n",
        "    polylines = []\n",
        "\n",
        "    point_cnt = 0\n",
        "    for cur_data in map_features:\n",
        "        cur_info = {'id': cur_data.id}\n",
        "\n",
        "        if cur_data.lane.ByteSize() > 0:\n",
        "            cur_info['speed_limit_mph'] = cur_data.lane.speed_limit_mph\n",
        "            cur_info['type'] = lane_type[cur_data.lane.type]  # 0: undefined, 1: freeway, 2: surface_street, 3: bike_lane\n",
        "\n",
        "            cur_info['interpolating'] = cur_data.lane.interpolating\n",
        "            cur_info['entry_lanes'] = list(cur_data.lane.entry_lanes)\n",
        "            cur_info['exit_lanes'] = list(cur_data.lane.exit_lanes)\n",
        "\n",
        "            cur_info['left_boundary'] = [{\n",
        "                    'start_index': x.lane_start_index, 'end_index': x.lane_end_index,\n",
        "                    'feature_id': x.boundary_feature_id,\n",
        "                    'boundary_type': x.boundary_type  # roadline type\n",
        "                } for x in cur_data.lane.left_boundaries\n",
        "            ]\n",
        "            cur_info['right_boundary'] = [{\n",
        "                    'start_index': x.lane_start_index, 'end_index': x.lane_end_index,\n",
        "                    'feature_id': x.boundary_feature_id,\n",
        "                    'boundary_type': road_line_type[x.boundary_type]  # roadline type\n",
        "                } for x in cur_data.lane.right_boundaries\n",
        "            ]\n",
        "\n",
        "            global_type = polyline_type[cur_info['type']]\n",
        "            cur_polyline = np.stack([np.array([point.x, point.y, point.z, global_type]) for point in cur_data.lane.polyline], axis=0)\n",
        "            cur_polyline_dir = get_polyline_dir(cur_polyline[:, 0:3])\n",
        "            cur_polyline = np.concatenate((cur_polyline[:, 0:3], cur_polyline_dir, cur_polyline[:, 3:]), axis=-1)\n",
        "\n",
        "            map_infos['lane'].append(cur_info)\n",
        "\n",
        "        elif cur_data.road_line.ByteSize() > 0:\n",
        "            cur_info['type'] = road_line_type[cur_data.road_line.type]\n",
        "\n",
        "            global_type = polyline_type[cur_info['type']]\n",
        "            cur_polyline = np.stack([np.array([point.x, point.y, point.z, global_type]) for point in cur_data.road_line.polyline], axis=0)\n",
        "            cur_polyline_dir = get_polyline_dir(cur_polyline[:, 0:3])\n",
        "            cur_polyline = np.concatenate((cur_polyline[:, 0:3], cur_polyline_dir, cur_polyline[:, 3:]), axis=-1)\n",
        "\n",
        "            map_infos['road_line'].append(cur_info)\n",
        "\n",
        "        elif cur_data.road_edge.ByteSize() > 0:\n",
        "            cur_info['type'] = road_edge_type[cur_data.road_edge.type]\n",
        "\n",
        "            global_type = polyline_type[cur_info['type']]\n",
        "            cur_polyline = np.stack([np.array([point.x, point.y, point.z, global_type]) for point in cur_data.road_edge.polyline], axis=0)\n",
        "            cur_polyline_dir = get_polyline_dir(cur_polyline[:, 0:3])\n",
        "            cur_polyline = np.concatenate((cur_polyline[:, 0:3], cur_polyline_dir, cur_polyline[:, 3:]), axis=-1)\n",
        "\n",
        "            map_infos['road_edge'].append(cur_info)\n",
        "\n",
        "        elif cur_data.stop_sign.ByteSize() > 0:\n",
        "            cur_info['lane_ids'] = list(cur_data.stop_sign.lane)\n",
        "            point = cur_data.stop_sign.position\n",
        "            cur_info['position'] = np.array([point.x, point.y, point.z])\n",
        "\n",
        "            global_type = polyline_type['TYPE_STOP_SIGN']\n",
        "            cur_polyline = np.array([point.x, point.y, point.z, 0, 0, 0, global_type]).reshape(1, 7)\n",
        "\n",
        "            map_infos['stop_sign'].append(cur_info)\n",
        "        elif cur_data.crosswalk.ByteSize() > 0:\n",
        "            global_type = polyline_type['TYPE_CROSSWALK']\n",
        "            cur_polyline = np.stack([np.array([point.x, point.y, point.z, global_type]) for point in cur_data.crosswalk.polygon], axis=0)\n",
        "            cur_polyline_dir = get_polyline_dir(cur_polyline[:, 0:3])\n",
        "            cur_polyline = np.concatenate((cur_polyline[:, 0:3], cur_polyline_dir, cur_polyline[:, 3:]), axis=-1)\n",
        "\n",
        "            map_infos['crosswalk'].append(cur_info)\n",
        "\n",
        "        elif cur_data.speed_bump.ByteSize() > 0:\n",
        "            global_type = polyline_type['TYPE_SPEED_BUMP']\n",
        "            cur_polyline = np.stack([np.array([point.x, point.y, point.z, global_type]) for point in cur_data.speed_bump.polygon], axis=0)\n",
        "            cur_polyline_dir = get_polyline_dir(cur_polyline[:, 0:3])\n",
        "            cur_polyline = np.concatenate((cur_polyline[:, 0:3], cur_polyline_dir, cur_polyline[:, 3:]), axis=-1)\n",
        "\n",
        "            map_infos['speed_bump'].append(cur_info)\n",
        "\n",
        "        else:\n",
        "            print(cur_data)\n",
        "            raise ValueError\n",
        "\n",
        "        polylines.append(cur_polyline)\n",
        "        cur_info['polyline_index'] = (point_cnt, point_cnt + len(cur_polyline))\n",
        "        point_cnt += len(cur_polyline)\n",
        "\n",
        "    try:\n",
        "        polylines = np.concatenate(polylines, axis=0).astype(np.float32)\n",
        "    except:\n",
        "        polylines = np.zeros((0, 7), dtype=np.float32)\n",
        "        print('Empty polylines: ')\n",
        "    map_infos['all_polylines'] = polylines\n",
        "    return map_infos"
      ],
      "metadata": {
        "id": "jx1VyF5d3owY"
      },
      "execution_count": 60,
      "outputs": []
    },
    {
      "cell_type": "code",
      "source": [
        "print(type(parsed))\n",
        "print(parsed.items())"
      ],
      "metadata": {
        "id": "TIk_IRNo3oQs"
      },
      "execution_count": null,
      "outputs": []
    },
    {
      "cell_type": "markdown",
      "source": [
        "# Save data as json"
      ],
      "metadata": {
        "id": "qnbSYSBl3WFd"
      }
    },
    {
      "cell_type": "code",
      "source": [
        "import json\n",
        "\n",
        "# convert any non-serializable data types to a serializable data type\n",
        "for key, value in parsed.items():\n",
        "    if isinstance(value, tf.Tensor):\n",
        "        parsed[key] = value.numpy().tolist()\n",
        "\n",
        "# dump the modified dictionary to a JSON file\n",
        "with open('/content/training.json', 'w') as f:\n",
        "    json.dump(parsed, f)"
      ],
      "metadata": {
        "id": "kF4_LlSN3kIN"
      },
      "execution_count": null,
      "outputs": []
    },
    {
      "cell_type": "markdown",
      "source": [
        "# Plot the parsed data"
      ],
      "metadata": {
        "id": "ssjy_9aq4YEl"
      }
    },
    {
      "cell_type": "code",
      "source": [
        "def create_figure_and_axes(size_pixels):\n",
        "  \"\"\"Initializes a unique figure and axes for plotting.\"\"\"\n",
        "  fig, ax = plt.subplots(1, 1, num=uuid.uuid4())\n",
        "\n",
        "  # Sets output image to pixel resolution.\n",
        "  dpi = 100\n",
        "  size_inches = size_pixels / dpi\n",
        "  fig.set_size_inches([size_inches, size_inches])\n",
        "  fig.set_dpi(dpi)\n",
        "  fig.set_facecolor('white')\n",
        "  ax.set_facecolor('white')\n",
        "  ax.xaxis.label.set_color('black')\n",
        "  ax.tick_params(axis='x', colors='black')\n",
        "  ax.yaxis.label.set_color('black')\n",
        "  ax.tick_params(axis='y', colors='black')\n",
        "  fig.set_tight_layout(True)\n",
        "  ax.grid(False)\n",
        "  return fig, ax\n",
        "\n",
        "\n",
        "def fig_canvas_image(fig):\n",
        "  \"\"\"Returns a [H, W, 3] uint8 np.array image from fig.canvas.tostring_rgb().\"\"\"\n",
        "  # Just enough margin in the figure to display xticks and yticks.\n",
        "  fig.subplots_adjust(\n",
        "      left=0.08, bottom=0.08, right=0.98, top=0.98, wspace=0.0, hspace=0.0)\n",
        "  fig.canvas.draw()\n",
        "  data = np.frombuffer(fig.canvas.tostring_rgb(), dtype=np.uint8)\n",
        "  return data.reshape(fig.canvas.get_width_height()[::-1] + (3,))\n",
        "\n",
        "\n",
        "def get_colormap(num_agents):\n",
        "  \"\"\"Compute a color map array of shape [num_agents, 4].\"\"\"\n",
        "  colors = cm.get_cmap('jet', num_agents)\n",
        "  colors = colors(range(num_agents))\n",
        "  np.random.shuffle(colors)\n",
        "  return colors\n",
        "\n",
        "\n",
        "def get_viewport(all_states, all_states_mask):\n",
        "  \"\"\"Gets the region containing the data.\n",
        "\n",
        "  Args:\n",
        "    all_states: states of agents as an array of shape [num_agents, num_steps,\n",
        "      2].\n",
        "    all_states_mask: binary mask of shape [num_agents, num_steps] for\n",
        "      `all_states`.\n",
        "\n",
        "  Returns:\n",
        "    center_y: float. y coordinate for center of data.\n",
        "    center_x: float. x coordinate for center of data.\n",
        "    width: float. Width of data.\n",
        "  \"\"\"\n",
        "  valid_states = all_states[all_states_mask]\n",
        "  all_y = valid_states[..., 1]\n",
        "  all_x = valid_states[..., 0]\n",
        "\n",
        "  center_y = (np.max(all_y) + np.min(all_y)) / 2\n",
        "  center_x = (np.max(all_x) + np.min(all_x)) / 2\n",
        "\n",
        "  range_y = np.ptp(all_y)\n",
        "  range_x = np.ptp(all_x)\n",
        "\n",
        "  width = max(range_y, range_x)\n",
        "\n",
        "  return center_y, center_x, width\n",
        "\n",
        "\n",
        "def visualize_one_step(states,\n",
        "                       mask,\n",
        "                       roadgraph,\n",
        "                       title,\n",
        "                       center_y,\n",
        "                       center_x,\n",
        "                       width,\n",
        "                       color_map,\n",
        "                       size_pixels=1000):\n",
        "  \"\"\"Generate visualization for a single step.\"\"\"\n",
        "\n",
        "  # Create figure and axes.\n",
        "  fig, ax = create_figure_and_axes(size_pixels=size_pixels)\n",
        "\n",
        "  # Plot roadgraph.\n",
        "  rg_pts = roadgraph[:, :2].T\n",
        "  ax.plot(rg_pts[0, :], rg_pts[1, :], 'k.', alpha=1, ms=2)\n",
        "\n",
        "  masked_x = states[:, 0][mask]\n",
        "  masked_y = states[:, 1][mask]\n",
        "  colors = color_map[mask]\n",
        "\n",
        "  # Plot agent current position.\n",
        "  ax.scatter(\n",
        "      masked_x,\n",
        "      masked_y,\n",
        "      marker='o',\n",
        "      linewidths=3,\n",
        "      color=colors,\n",
        "  )\n",
        "\n",
        "  # Title.\n",
        "  ax.set_title(title)\n",
        "\n",
        "  # Set axes.  Should be at least 10m on a side and cover 160% of agents.\n",
        "  size = max(10, width * 1.0)\n",
        "  ax.axis([\n",
        "      -size / 2 + center_x, size / 2 + center_x, -size / 2 + center_y,\n",
        "      size / 2 + center_y\n",
        "  ])\n",
        "  ax.set_aspect('equal')\n",
        "\n",
        "  image = fig_canvas_image(fig)\n",
        "  plt.close(fig)\n",
        "  return image\n",
        "\n",
        "\n",
        "def visualize_all_agents_smooth(\n",
        "    decoded_example,\n",
        "    size_pixels=1000,\n",
        "):\n",
        "  \"\"\"Visualizes all agent predicted trajectories in a serie of images.\n",
        "\n",
        "  Args:\n",
        "    decoded_example: Dictionary containing agent info about all modeled agents.\n",
        "    size_pixels: The size in pixels of the output image.\n",
        "\n",
        "  Returns:\n",
        "    T of [H, W, 3] uint8 np.arrays of the drawn matplotlib's figure canvas.\n",
        "  \"\"\"\n",
        "  # [num_agents, num_past_steps, 2] float32.\n",
        "  past_states = tf.stack(\n",
        "      [decoded_example['state/past/x'], decoded_example['state/past/y']],\n",
        "      -1).numpy()\n",
        "  past_states_mask = decoded_example['state/past/valid'].numpy() > 0.0\n",
        "\n",
        "  # [num_agents, 1, 2] float32.\n",
        "  current_states = tf.stack(\n",
        "      [decoded_example['state/current/x'], decoded_example['state/current/y']],\n",
        "      -1).numpy()\n",
        "  current_states_mask = decoded_example['state/current/valid'].numpy() > 0.0\n",
        "\n",
        "  # [num_agents, num_future_steps, 2] float32.\n",
        "  future_states = tf.stack(\n",
        "      [decoded_example['state/future/x'], decoded_example['state/future/y']],\n",
        "      -1).numpy()\n",
        "  future_states_mask = decoded_example['state/future/valid'].numpy() > 0.0\n",
        "\n",
        "  # [num_points, 3] float32.\n",
        "  roadgraph_xyz = decoded_example['roadgraph_samples/xyz'].numpy()\n",
        "\n",
        "  num_agents, num_past_steps, _ = past_states.shape\n",
        "  num_future_steps = future_states.shape[1]\n",
        "\n",
        "  color_map = get_colormap(num_agents)\n",
        "\n",
        "  # [num_agens, num_past_steps + 1 + num_future_steps, depth] float32.\n",
        "  all_states = np.concatenate([past_states, current_states, future_states], 1)\n",
        "\n",
        "  # [num_agens, num_past_steps + 1 + num_future_steps] float32.\n",
        "  all_states_mask = np.concatenate(\n",
        "      [past_states_mask, current_states_mask, future_states_mask], 1)\n",
        "\n",
        "  center_y, center_x, width = get_viewport(all_states, all_states_mask)\n",
        "\n",
        "  images = []\n",
        "\n",
        "  # Generate images from past time steps.\n",
        "  for i, (s, m) in enumerate(\n",
        "      zip(\n",
        "          np.split(past_states, num_past_steps, 1),\n",
        "          np.split(past_states_mask, num_past_steps, 1))):\n",
        "    im = visualize_one_step(s[:, 0], m[:, 0], roadgraph_xyz,\n",
        "                            'past: %d' % (num_past_steps - i), center_y,\n",
        "                            center_x, width, color_map, size_pixels)\n",
        "    images.append(im)\n",
        "\n",
        "  # Generate one image for the current time step.\n",
        "  s = current_states\n",
        "  m = current_states_mask\n",
        "\n",
        "  im = visualize_one_step(s[:, 0], m[:, 0], roadgraph_xyz, 'current', center_y,\n",
        "                          center_x, width, color_map, size_pixels)\n",
        "  images.append(im)\n",
        "\n",
        "  # Generate images from future time steps.\n",
        "  for i, (s, m) in enumerate(\n",
        "      zip(\n",
        "          np.split(future_states, num_future_steps, 1),\n",
        "          np.split(future_states_mask, num_future_steps, 1))):\n",
        "    im = visualize_one_step(s[:, 0], m[:, 0], roadgraph_xyz,\n",
        "                            'future: %d' % (i + 1), center_y, center_x, width,\n",
        "                            color_map, size_pixels)\n",
        "    images.append(im)\n",
        "\n",
        "  return images\n",
        "\n",
        "\n",
        "images = visualize_all_agents_smooth(parsed)"
      ],
      "metadata": {
        "id": "ZDEaN7tI4SZW"
      },
      "execution_count": null,
      "outputs": []
    },
    {
      "cell_type": "code",
      "source": [
        "def create_animation(images):\n",
        "  \"\"\" Creates a Matplotlib animation of the given images.\n",
        "\n",
        "  Args:\n",
        "    images: A list of numpy arrays representing the images.\n",
        "\n",
        "  Returns:\n",
        "    A matplotlib.animation.Animation.\n",
        "\n",
        "  Usage:\n",
        "    anim = create_animation(images)\n",
        "    anim.save('/tmp/animation.avi')\n",
        "    HTML(anim.to_html5_video())\n",
        "  \"\"\"\n",
        "\n",
        "  plt.ioff()\n",
        "  fig, ax = plt.subplots()\n",
        "  dpi = 100\n",
        "  size_inches = 1000 / dpi\n",
        "  fig.set_size_inches([size_inches, size_inches])\n",
        "  plt.ion()\n",
        "\n",
        "  def animate_func(i):\n",
        "    ax.imshow(images[i])\n",
        "    ax.set_xticks([])\n",
        "    ax.set_yticks([])\n",
        "    ax.grid('off')\n",
        "\n",
        "  anim = animation.FuncAnimation(\n",
        "      fig, animate_func, frames=len(images) // 2, interval=100)\n",
        "  plt.close(fig)\n",
        "  return anim\n",
        "\n",
        "\n",
        "anim = create_animation(images[::5])\n",
        "HTML(anim.to_html5_video())"
      ],
      "metadata": {
        "id": "OCUBF-hf4gYP"
      },
      "execution_count": null,
      "outputs": []
    },
    {
      "cell_type": "code",
      "source": [
        "!pip install tensorflow==2.8"
      ],
      "metadata": {
        "id": "uehNXHJD50CI",
        "outputId": "2b0c27b1-95c2-4587-ca21-b1b38c5249b1",
        "colab": {
          "base_uri": "https://localhost:8080/"
        }
      },
      "execution_count": 3,
      "outputs": [
        {
          "output_type": "stream",
          "name": "stdout",
          "text": [
            "Looking in indexes: https://pypi.org/simple, https://us-python.pkg.dev/colab-wheels/public/simple/\n",
            "Collecting tensorflow==2.8\n",
            "  Downloading tensorflow-2.8.0-cp310-cp310-manylinux2010_x86_64.whl (497.6 MB)\n",
            "\u001b[2K     \u001b[90m━━━━━━━━━━━━━━━━━━━━━━━━━━━━━━━━━━━━━━━\u001b[0m \u001b[32m497.6/497.6 MB\u001b[0m \u001b[31m2.4 MB/s\u001b[0m eta \u001b[36m0:00:00\u001b[0m\n",
            "\u001b[?25hRequirement already satisfied: absl-py>=0.4.0 in /usr/local/lib/python3.10/dist-packages (from tensorflow==2.8) (1.4.0)\n",
            "Requirement already satisfied: astunparse>=1.6.0 in /usr/local/lib/python3.10/dist-packages (from tensorflow==2.8) (1.6.3)\n",
            "Requirement already satisfied: flatbuffers>=1.12 in /usr/local/lib/python3.10/dist-packages (from tensorflow==2.8) (23.3.3)\n",
            "Requirement already satisfied: gast>=0.2.1 in /usr/local/lib/python3.10/dist-packages (from tensorflow==2.8) (0.4.0)\n",
            "Requirement already satisfied: google-pasta>=0.1.1 in /usr/local/lib/python3.10/dist-packages (from tensorflow==2.8) (0.2.0)\n",
            "Requirement already satisfied: h5py>=2.9.0 in /usr/local/lib/python3.10/dist-packages (from tensorflow==2.8) (3.8.0)\n",
            "Collecting keras-preprocessing>=1.1.1 (from tensorflow==2.8)\n",
            "  Downloading Keras_Preprocessing-1.1.2-py2.py3-none-any.whl (42 kB)\n",
            "\u001b[2K     \u001b[90m━━━━━━━━━━━━━━━━━━━━━━━━━━━━━━━━━━━━━━━━\u001b[0m \u001b[32m42.6/42.6 kB\u001b[0m \u001b[31m4.4 MB/s\u001b[0m eta \u001b[36m0:00:00\u001b[0m\n",
            "\u001b[?25hRequirement already satisfied: libclang>=9.0.1 in /usr/local/lib/python3.10/dist-packages (from tensorflow==2.8) (16.0.0)\n",
            "Requirement already satisfied: numpy>=1.20 in /usr/local/lib/python3.10/dist-packages (from tensorflow==2.8) (1.21.5)\n",
            "Requirement already satisfied: opt-einsum>=2.3.2 in /usr/local/lib/python3.10/dist-packages (from tensorflow==2.8) (3.3.0)\n",
            "Requirement already satisfied: protobuf>=3.9.2 in /usr/local/lib/python3.10/dist-packages (from tensorflow==2.8) (3.19.6)\n",
            "Requirement already satisfied: setuptools in /usr/local/lib/python3.10/dist-packages (from tensorflow==2.8) (67.6.0)\n",
            "Requirement already satisfied: six>=1.12.0 in /usr/local/lib/python3.10/dist-packages (from tensorflow==2.8) (1.16.0)\n",
            "Requirement already satisfied: termcolor>=1.1.0 in /usr/local/lib/python3.10/dist-packages (from tensorflow==2.8) (2.3.0)\n",
            "Requirement already satisfied: typing-extensions>=3.6.6 in /usr/local/lib/python3.10/dist-packages (from tensorflow==2.8) (4.5.0)\n",
            "Requirement already satisfied: wrapt>=1.11.0 in /usr/local/lib/python3.10/dist-packages (from tensorflow==2.8) (1.14.1)\n",
            "Collecting tensorboard<2.9,>=2.8 (from tensorflow==2.8)\n",
            "  Downloading tensorboard-2.8.0-py3-none-any.whl (5.8 MB)\n",
            "\u001b[2K     \u001b[90m━━━━━━━━━━━━━━━━━━━━━━━━━━━━━━━━━━━━━━━━\u001b[0m \u001b[32m5.8/5.8 MB\u001b[0m \u001b[31m67.6 MB/s\u001b[0m eta \u001b[36m0:00:00\u001b[0m\n",
            "\u001b[?25hCollecting tf-estimator-nightly==2.8.0.dev2021122109 (from tensorflow==2.8)\n",
            "  Downloading tf_estimator_nightly-2.8.0.dev2021122109-py2.py3-none-any.whl (462 kB)\n",
            "\u001b[2K     \u001b[90m━━━━━━━━━━━━━━━━━━━━━━━━━━━━━━━━━━━━━━\u001b[0m \u001b[32m462.5/462.5 kB\u001b[0m \u001b[31m33.8 MB/s\u001b[0m eta \u001b[36m0:00:00\u001b[0m\n",
            "\u001b[?25hCollecting keras<2.9,>=2.8.0rc0 (from tensorflow==2.8)\n",
            "  Downloading keras-2.8.0-py2.py3-none-any.whl (1.4 MB)\n",
            "\u001b[2K     \u001b[90m━━━━━━━━━━━━━━━━━━━━━━━━━━━━━━━━━━━━━━━━\u001b[0m \u001b[32m1.4/1.4 MB\u001b[0m \u001b[31m57.7 MB/s\u001b[0m eta \u001b[36m0:00:00\u001b[0m\n",
            "\u001b[?25hRequirement already satisfied: tensorflow-io-gcs-filesystem>=0.23.1 in /usr/local/lib/python3.10/dist-packages (from tensorflow==2.8) (0.32.0)\n",
            "Requirement already satisfied: grpcio<2.0,>=1.24.3 in /usr/local/lib/python3.10/dist-packages (from tensorflow==2.8) (1.54.0)\n",
            "Requirement already satisfied: wheel<1.0,>=0.23.0 in /usr/local/lib/python3.10/dist-packages (from astunparse>=1.6.0->tensorflow==2.8) (0.40.0)\n",
            "Requirement already satisfied: google-auth<3,>=1.6.3 in /usr/local/lib/python3.10/dist-packages (from tensorboard<2.9,>=2.8->tensorflow==2.8) (2.16.2)\n",
            "Requirement already satisfied: google-auth-oauthlib<0.5,>=0.4.1 in /usr/local/lib/python3.10/dist-packages (from tensorboard<2.9,>=2.8->tensorflow==2.8) (0.4.6)\n",
            "Requirement already satisfied: markdown>=2.6.8 in /usr/local/lib/python3.10/dist-packages (from tensorboard<2.9,>=2.8->tensorflow==2.8) (3.4.3)\n",
            "Requirement already satisfied: requests<3,>=2.21.0 in /usr/local/lib/python3.10/dist-packages (from tensorboard<2.9,>=2.8->tensorflow==2.8) (2.27.1)\n",
            "Requirement already satisfied: tensorboard-data-server<0.7.0,>=0.6.0 in /usr/local/lib/python3.10/dist-packages (from tensorboard<2.9,>=2.8->tensorflow==2.8) (0.6.1)\n",
            "Requirement already satisfied: tensorboard-plugin-wit>=1.6.0 in /usr/local/lib/python3.10/dist-packages (from tensorboard<2.9,>=2.8->tensorflow==2.8) (1.8.1)\n",
            "Requirement already satisfied: werkzeug>=0.11.15 in /usr/local/lib/python3.10/dist-packages (from tensorboard<2.9,>=2.8->tensorflow==2.8) (2.3.0)\n",
            "Requirement already satisfied: cachetools<6.0,>=2.0.0 in /usr/local/lib/python3.10/dist-packages (from google-auth<3,>=1.6.3->tensorboard<2.9,>=2.8->tensorflow==2.8) (5.3.0)\n",
            "Requirement already satisfied: pyasn1-modules>=0.2.1 in /usr/local/lib/python3.10/dist-packages (from google-auth<3,>=1.6.3->tensorboard<2.9,>=2.8->tensorflow==2.8) (0.3.0)\n",
            "Requirement already satisfied: rsa<5,>=3.1.4 in /usr/local/lib/python3.10/dist-packages (from google-auth<3,>=1.6.3->tensorboard<2.9,>=2.8->tensorflow==2.8) (4.9)\n",
            "Requirement already satisfied: requests-oauthlib>=0.7.0 in /usr/local/lib/python3.10/dist-packages (from google-auth-oauthlib<0.5,>=0.4.1->tensorboard<2.9,>=2.8->tensorflow==2.8) (1.3.1)\n",
            "Requirement already satisfied: urllib3<1.27,>=1.21.1 in /usr/local/lib/python3.10/dist-packages (from requests<3,>=2.21.0->tensorboard<2.9,>=2.8->tensorflow==2.8) (1.26.15)\n",
            "Requirement already satisfied: certifi>=2017.4.17 in /usr/local/lib/python3.10/dist-packages (from requests<3,>=2.21.0->tensorboard<2.9,>=2.8->tensorflow==2.8) (2022.12.7)\n",
            "Requirement already satisfied: charset-normalizer~=2.0.0 in /usr/local/lib/python3.10/dist-packages (from requests<3,>=2.21.0->tensorboard<2.9,>=2.8->tensorflow==2.8) (2.0.12)\n",
            "Requirement already satisfied: idna<4,>=2.5 in /usr/local/lib/python3.10/dist-packages (from requests<3,>=2.21.0->tensorboard<2.9,>=2.8->tensorflow==2.8) (3.4)\n",
            "Requirement already satisfied: MarkupSafe>=2.1.1 in /usr/local/lib/python3.10/dist-packages (from werkzeug>=0.11.15->tensorboard<2.9,>=2.8->tensorflow==2.8) (2.1.2)\n",
            "Requirement already satisfied: pyasn1<0.6.0,>=0.4.6 in /usr/local/lib/python3.10/dist-packages (from pyasn1-modules>=0.2.1->google-auth<3,>=1.6.3->tensorboard<2.9,>=2.8->tensorflow==2.8) (0.5.0)\n",
            "Requirement already satisfied: oauthlib>=3.0.0 in /usr/local/lib/python3.10/dist-packages (from requests-oauthlib>=0.7.0->google-auth-oauthlib<0.5,>=0.4.1->tensorboard<2.9,>=2.8->tensorflow==2.8) (3.2.2)\n",
            "Installing collected packages: tf-estimator-nightly, keras, keras-preprocessing, tensorboard, tensorflow\n",
            "  Attempting uninstall: keras\n",
            "    Found existing installation: keras 2.11.0\n",
            "    Uninstalling keras-2.11.0:\n",
            "      Successfully uninstalled keras-2.11.0\n",
            "  Attempting uninstall: tensorboard\n",
            "    Found existing installation: tensorboard 2.11.2\n",
            "    Uninstalling tensorboard-2.11.2:\n",
            "      Successfully uninstalled tensorboard-2.11.2\n",
            "  Attempting uninstall: tensorflow\n",
            "    Found existing installation: tensorflow 2.11.0\n",
            "    Uninstalling tensorflow-2.11.0:\n",
            "      Successfully uninstalled tensorflow-2.11.0\n",
            "\u001b[31mERROR: pip's dependency resolver does not currently take into account all the packages that are installed. This behaviour is the source of the following dependency conflicts.\n",
            "waymo-open-dataset-tf-2-11-0 1.5.1 requires tensorflow==2.11, but you have tensorflow 2.8.0 which is incompatible.\u001b[0m\u001b[31m\n",
            "\u001b[0mSuccessfully installed keras-2.8.0 keras-preprocessing-1.1.2 tensorboard-2.8.0 tensorflow-2.8.0 tf-estimator-nightly-2.8.0.dev2021122109\n",
            "\u001b[33mWARNING: Running pip as the 'root' user can result in broken permissions and conflicting behaviour with the system package manager. It is recommended to use a virtual environment instead: https://pip.pypa.io/warnings/venv\u001b[0m\u001b[33m\n",
            "\u001b[0m"
          ]
        }
      ]
    },
    {
      "cell_type": "code",
      "source": [
        "def _parse(value):\n",
        "  decoded_example = tf.io.parse_single_example(value, features_description)\n",
        "\n",
        "  past_states = tf.stack([\n",
        "      decoded_example['state/past/x'], decoded_example['state/past/y'],\n",
        "      decoded_example['state/past/length'], decoded_example['state/past/width'],\n",
        "      decoded_example['state/past/bbox_yaw'],\n",
        "      decoded_example['state/past/velocity_x'],\n",
        "      decoded_example['state/past/velocity_y']\n",
        "  ], -1)\n",
        "\n",
        "  cur_states = tf.stack([\n",
        "      decoded_example['state/current/x'], decoded_example['state/current/y'],\n",
        "      decoded_example['state/current/length'],\n",
        "      decoded_example['state/current/width'],\n",
        "      decoded_example['state/current/bbox_yaw'],\n",
        "      decoded_example['state/current/velocity_x'],\n",
        "      decoded_example['state/current/velocity_y']\n",
        "  ], -1)\n",
        "\n",
        "  input_states = tf.concat([past_states, cur_states], 1)[..., :2]\n",
        "\n",
        "  future_states = tf.stack([\n",
        "      decoded_example['state/future/x'], decoded_example['state/future/y'],\n",
        "      decoded_example['state/future/length'],\n",
        "      decoded_example['state/future/width'],\n",
        "      decoded_example['state/future/bbox_yaw'],\n",
        "      decoded_example['state/future/velocity_x'],\n",
        "      decoded_example['state/future/velocity_y']\n",
        "  ], -1)\n",
        "\n",
        "  gt_future_states = tf.concat([past_states, cur_states, future_states], 1)\n",
        "\n",
        "  past_is_valid = decoded_example['state/past/valid'] > 0\n",
        "  current_is_valid = decoded_example['state/current/valid'] > 0\n",
        "  future_is_valid = decoded_example['state/future/valid'] > 0\n",
        "  gt_future_is_valid = tf.concat(\n",
        "      [past_is_valid, current_is_valid, future_is_valid], 1)\n",
        "\n",
        "  # If a sample was not seen at all in the past, we declare the sample as\n",
        "  # invalid.\n",
        "  sample_is_valid = tf.reduce_any(\n",
        "      tf.concat([past_is_valid, current_is_valid], 1), 1)\n",
        "\n",
        "  inputs = {\n",
        "      'input_states': input_states,\n",
        "      'gt_future_states': gt_future_states,\n",
        "      'gt_future_is_valid': gt_future_is_valid,\n",
        "      'object_type': decoded_example['state/type'],\n",
        "      'tracks_to_predict': decoded_example['state/tracks_to_predict'] > 0,\n",
        "      'sample_is_valid': sample_is_valid,\n",
        "  }\n",
        "  return inputs\n",
        "\n",
        "\n",
        "def _default_metrics_config():\n",
        "  config = motion_metrics_pb2.MotionMetricsConfig()\n",
        "  config_text = \"\"\"\n",
        "  track_steps_per_second: 10\n",
        "  prediction_steps_per_second: 2\n",
        "  track_history_samples: 10\n",
        "  track_future_samples: 80\n",
        "  speed_lower_bound: 1.4\n",
        "  speed_upper_bound: 11.0\n",
        "  speed_scale_lower: 0.5\n",
        "  speed_scale_upper: 1.0\n",
        "  step_configurations {\n",
        "    measurement_step: 5\n",
        "    lateral_miss_threshold: 1.0\n",
        "    longitudinal_miss_threshold: 2.0\n",
        "  }\n",
        "  step_configurations {\n",
        "    measurement_step: 9\n",
        "    lateral_miss_threshold: 1.8\n",
        "    longitudinal_miss_threshold: 3.6\n",
        "  }\n",
        "  step_configurations {\n",
        "    measurement_step: 15\n",
        "    lateral_miss_threshold: 3.0\n",
        "    longitudinal_miss_threshold: 6.0\n",
        "  }\n",
        "  max_predictions: 6\n",
        "  \"\"\"\n",
        "  text_format.Parse(config_text, config)\n",
        "  return config\n",
        "\n",
        "\n",
        "class SimpleModel(tf.keras.Model):\n",
        "  \"\"\"A simple one-layer regressor.\"\"\"\n",
        "\n",
        "  def __init__(self, num_agents_per_scenario, num_states_steps,\n",
        "               num_future_steps):\n",
        "    super(SimpleModel, self).__init__()\n",
        "    self._num_agents_per_scenario = num_agents_per_scenario\n",
        "    self._num_states_steps = num_states_steps\n",
        "    self._num_future_steps = num_future_steps\n",
        "    self.regressor = tf.keras.layers.Dense(num_future_steps * 2)\n",
        "\n",
        "  def call(self, states):\n",
        "    states = tf.reshape(states, (-1, self._num_states_steps * 2))\n",
        "    pred = self.regressor(states)\n",
        "    pred = tf.reshape(\n",
        "        pred, [-1, self._num_agents_per_scenario, self._num_future_steps, 2])\n",
        "    return pred\n",
        "\n",
        "\n",
        "class MotionMetrics(tf.keras.metrics.Metric):\n",
        "  \"\"\"Wrapper for motion metrics computation.\"\"\"\n",
        "\n",
        "  def __init__(self, config):\n",
        "    super().__init__()\n",
        "    self._prediction_trajectory = []\n",
        "    self._prediction_score = []\n",
        "    self._ground_truth_trajectory = []\n",
        "    self._ground_truth_is_valid = []\n",
        "    self._prediction_ground_truth_indices = []\n",
        "    self._prediction_ground_truth_indices_mask = []\n",
        "    self._object_type = []\n",
        "    self._metrics_config = config\n",
        "\n",
        "  def reset_state():\n",
        "    self._prediction_trajectory = []\n",
        "    self._prediction_score = []\n",
        "    self._ground_truth_trajectory = []\n",
        "    self._ground_truth_is_valid = []\n",
        "    self._prediction_ground_truth_indices = []\n",
        "    self._prediction_ground_truth_indices_mask = []\n",
        "    self._object_type = []\n",
        "\n",
        "  def update_state(self, prediction_trajectory, prediction_score,\n",
        "                   ground_truth_trajectory, ground_truth_is_valid,\n",
        "                   prediction_ground_truth_indices,\n",
        "                   prediction_ground_truth_indices_mask, object_type):\n",
        "    self._prediction_trajectory.append(prediction_trajectory)\n",
        "    self._prediction_score.append(prediction_score)\n",
        "    self._ground_truth_trajectory.append(ground_truth_trajectory)\n",
        "    self._ground_truth_is_valid.append(ground_truth_is_valid)\n",
        "    self._prediction_ground_truth_indices.append(\n",
        "        prediction_ground_truth_indices)\n",
        "    self._prediction_ground_truth_indices_mask.append(\n",
        "        prediction_ground_truth_indices_mask)\n",
        "    self._object_type.append(object_type)\n",
        "\n",
        "  def result(self):\n",
        "    # [batch_size, num_preds, 1, 1, steps, 2].\n",
        "    # The ones indicate top_k = 1, num_agents_per_joint_prediction = 1.\n",
        "    prediction_trajectory = tf.concat(self._prediction_trajectory, 0)\n",
        "    # [batch_size, num_preds, 1].\n",
        "    prediction_score = tf.concat(self._prediction_score, 0)\n",
        "    # [batch_size, num_agents, gt_steps, 7].\n",
        "    ground_truth_trajectory = tf.concat(self._ground_truth_trajectory, 0)\n",
        "    # [batch_size, num_agents, gt_steps].\n",
        "    ground_truth_is_valid = tf.concat(self._ground_truth_is_valid, 0)\n",
        "    # [batch_size, num_preds, 1].\n",
        "    prediction_ground_truth_indices = tf.concat(\n",
        "        self._prediction_ground_truth_indices, 0)\n",
        "    # [batch_size, num_preds, 1].\n",
        "    prediction_ground_truth_indices_mask = tf.concat(\n",
        "        self._prediction_ground_truth_indices_mask, 0)\n",
        "    # [batch_size, num_agents].\n",
        "    object_type = tf.cast(tf.concat(self._object_type, 0), tf.int64)\n",
        "\n",
        "    # We are predicting more steps than needed by the eval code. Subsample.\n",
        "    interval = (\n",
        "        self._metrics_config.track_steps_per_second //\n",
        "        self._metrics_config.prediction_steps_per_second)\n",
        "    prediction_trajectory = prediction_trajectory[...,\n",
        "                                                  (interval - 1)::interval, :]\n",
        "\n",
        "    return py_metrics_ops.motion_metrics(\n",
        "        config=self._metrics_config.SerializeToString(),\n",
        "        prediction_trajectory=prediction_trajectory,\n",
        "        prediction_score=prediction_score,\n",
        "        ground_truth_trajectory=ground_truth_trajectory,\n",
        "        ground_truth_is_valid=ground_truth_is_valid,\n",
        "        prediction_ground_truth_indices=prediction_ground_truth_indices,\n",
        "        prediction_ground_truth_indices_mask=prediction_ground_truth_indices_mask,\n",
        "        object_type=object_type)\n",
        "\n",
        "\n",
        "model = SimpleModel(128, 11, 80)\n",
        "optimizer = tf.keras.optimizers.Adam(learning_rate=1e-3)\n",
        "loss_fn = tf.keras.losses.MeanSquaredError()\n",
        "metrics_config = _default_metrics_config()\n",
        "motion_metrics = MotionMetrics(metrics_config)\n",
        "metric_names = config_util.get_breakdown_names_from_motion_config(\n",
        "    metrics_config)\n",
        "\n",
        "\n",
        "def train_step(inputs):\n",
        "  with tf.GradientTape() as tape:\n",
        "    # [batch_size, num_agents, D]\n",
        "    states = inputs['input_states']\n",
        "\n",
        "    # Predict. [batch_size, num_agents, steps, 2].\n",
        "    pred_trajectory = model(states, training=True)\n",
        "\n",
        "    # Set training target.\n",
        "    prediction_start = metrics_config.track_history_samples + 1\n",
        "\n",
        "    # [batch_size, num_agents, steps, 7]\n",
        "    gt_trajectory = inputs['gt_future_states']\n",
        "    gt_targets = gt_trajectory[..., prediction_start:, :2]\n",
        "\n",
        "    # [batch_size, num_agents, steps]\n",
        "    gt_is_valid = inputs['gt_future_is_valid']\n",
        "    # [batch_size, num_agents, steps]\n",
        "    weights = (\n",
        "        tf.cast(inputs['gt_future_is_valid'][..., prediction_start:],\n",
        "                tf.float32) *\n",
        "        tf.cast(inputs['tracks_to_predict'][..., tf.newaxis], tf.float32))\n",
        "\n",
        "    loss_value = loss_fn(gt_targets, pred_trajectory, sample_weight=weights)\n",
        "  grads = tape.gradient(loss_value, model.trainable_weights)\n",
        "  optimizer.apply_gradients(zip(grads, model.trainable_weights))\n",
        "\n",
        "  # [batch_size, num_agents, steps, 2] ->\n",
        "  # [batch_size, num_agents, 1, 1, steps, 2].\n",
        "  # The added dimensions are top_k = 1, num_agents_per_joint_prediction = 1.\n",
        "  pred_trajectory = pred_trajectory[:, :, tf.newaxis, tf.newaxis]\n",
        "\n",
        "  # Fake the score since this model does not generate any score per predicted\n",
        "  # trajectory.\n",
        "  pred_score = tf.ones(shape=tf.shape(pred_trajectory)[:3])\n",
        "\n",
        "  # [batch_size, num_agents].\n",
        "  object_type = inputs['object_type']\n",
        "\n",
        "  # [batch_size, num_agents].\n",
        "  batch_size = tf.shape(inputs['tracks_to_predict'])[0]\n",
        "  num_samples = tf.shape(inputs['tracks_to_predict'])[1]\n",
        "\n",
        "  pred_gt_indices = tf.range(num_samples, dtype=tf.int64)\n",
        "  # [batch_size, num_agents, 1].\n",
        "  pred_gt_indices = tf.tile(pred_gt_indices[tf.newaxis, :, tf.newaxis],\n",
        "                            (batch_size, 1, 1))\n",
        "  # [batch_size, num_agents, 1].\n",
        "  pred_gt_indices_mask = inputs['tracks_to_predict'][..., tf.newaxis]\n",
        "\n",
        "  motion_metrics.update_state(pred_trajectory, pred_score, gt_trajectory,\n",
        "                              gt_is_valid, pred_gt_indices,\n",
        "                              pred_gt_indices_mask, object_type)\n",
        "\n",
        "  return loss_value\n",
        "\n",
        "\n",
        "dataset = tf.data.TFRecordDataset(FILENAME)\n",
        "dataset = dataset.map(_parse)\n",
        "dataset = dataset.batch(32)\n",
        "\n",
        "epochs = 2\n",
        "num_batches_per_epoch = 10\n",
        "\n",
        "for epoch in range(epochs):\n",
        "  print('\\nStart of epoch %d' % (epoch,))\n",
        "  start_time = time.time()\n",
        "\n",
        "  # Iterate over the batches of the dataset.\n",
        "  for step, batch in enumerate(dataset):\n",
        "    loss_value = train_step(batch)\n",
        "\n",
        "    # Log every 10 batches.\n",
        "    if step % 10 == 0:\n",
        "      print('Training loss (for one batch) at step %d: %.4f' %\n",
        "            (step, float(loss_value)))\n",
        "      print('Seen so far: %d samples' % ((step + 1) * 64))\n",
        "\n",
        "    if step >= num_batches_per_epoch:\n",
        "      break\n",
        "\n",
        "  # Display metrics at the end of each epoch.\n",
        "  train_metric_values = motion_metrics.result()\n",
        "  for i, m in enumerate(\n",
        "      ['min_ade', 'min_fde', 'miss_rate', 'overlap_rate', 'map']):\n",
        "    for j, n in enumerate(metric_names):\n",
        "      print('{}/{}: {}'.format(m, n, train_metric_values[i, j]))"
      ],
      "metadata": {
        "id": "ye1Hc-Zl43OY"
      },
      "execution_count": null,
      "outputs": []
    },
    {
      "cell_type": "markdown",
      "source": [
        "# Access Google cloud storage "
      ],
      "metadata": {
        "id": "0gj8lTEfU9CC"
      }
    },
    {
      "cell_type": "markdown",
      "source": [
        "## first step"
      ],
      "metadata": {
        "id": "hpGjHXQmKNz9"
      }
    },
    {
      "cell_type": "code",
      "source": [
        "# create a folder from google drive \n",
        "from google.colab import drive\n",
        "drive.mount('/content/drive')\n"
      ],
      "metadata": {
        "colab": {
          "base_uri": "https://localhost:8080/"
        },
        "id": "abcWy2VJ4BVZ",
        "outputId": "33ad6529-fc12-451d-dc7e-d44e1b5ea104"
      },
      "execution_count": 1,
      "outputs": [
        {
          "output_type": "stream",
          "name": "stdout",
          "text": [
            "Mounted at /content/drive\n"
          ]
        }
      ]
    },
    {
      "cell_type": "code",
      "source": [
        "# First, we need to authenticate and mount Google Drive in Colab\n",
        "from google.colab import auth\n",
        "auth.authenticate_user()\n",
        "\n",
        "from google.colab import drive\n",
        "drive.mount('/g')\n",
        "\n",
        "# Next, we need to install the Google Cloud Storage library\n",
        "!pip install google-cloud-storage\n",
        "\n",
        "# Then, we can create a client object to access our Google Cloud Storage data\n",
        "from google.cloud import storage\n",
        "client = storage.Client()"
      ],
      "metadata": {
        "id": "3MVaovoh60pc"
      },
      "execution_count": null,
      "outputs": []
    },
    {
      "cell_type": "code",
      "source": [
        "# save data to our own google cloud storage\n",
        "\n",
        "!gsutil -m cp -r \"gs://waymo_open_dataset_motion_v_1_2_0/uncompressed/lidar\"\\\n",
        " \"gs://vt_stats_waymo_motion_open_data\""
      ],
      "metadata": {
        "id": "KApJwnY_uIzp"
      },
      "execution_count": null,
      "outputs": []
    },
    {
      "cell_type": "code",
      "source": [
        "# Finally, we can access our data using the client object and the appropriate bucket and file paths\n",
        "bucket = client.get_bucket('vt_stats_waymo_motion_open_data')\n",
        "\n",
        "# Define the folder path where the TFRecords files are located\n",
        "folder_path = 'scenario/testing/' # change to testing and validation\n",
        "\n",
        "# Get a list of all blobs in the folder with the given prefix\n",
        "blobs = bucket.list_blobs(prefix=folder_path)\n",
        "\n",
        "# Create a list of file paths for the TFRecords files\n",
        "file_paths = []\n",
        "for blob in blobs:\n",
        "    # if blob.name.endswith('.tfrecord'):\n",
        "    file_paths.append('gs://' + blob.bucket.name + '/' + blob.name)\n",
        "\n",
        "# Create a TFRecordDataset from the file paths\n",
        "# dataset = tf.data.TFRecordDataset(file_paths)\n"
      ],
      "metadata": {
        "id": "MTRBasBm63v2"
      },
      "execution_count": null,
      "outputs": []
    },
    {
      "cell_type": "code",
      "source": [
        "file_paths "
      ],
      "metadata": {
        "id": "8Ji64G1ezuxf"
      },
      "execution_count": null,
      "outputs": []
    },
    {
      "cell_type": "code",
      "source": [
        "# download raw data from google cloud storage\n",
        "!gsutil -m cp -r \\\n",
        "  \"gs://vt_stats_waymo_motion_open_data/scenario\" \\\n",
        "  '/content/drive/Shareddrives/Waymo Data Challenge/Raw data-Waymo Motion/scenario'\n"
      ],
      "metadata": {
        "id": "dfEyoWZo2RxD"
      },
      "execution_count": null,
      "outputs": []
    },
    {
      "cell_type": "code",
      "source": [
        "# save original tfrecord data to our google drive\n",
        "\n",
        "for i,f in enumerate(file_paths):\n",
        "  # Create a TFRecordDataset from the file paths\n",
        "  dataset = tf.data.TFRecordDataset(file_paths[i])\n",
        "  # define the file path and name\n",
        "  save_path = '/content/drive/Shareddrives/Waymo Data Challenge/Raw data-Waymo Motion/scenario/testing/'\n",
        "  # create a TFRecord writer\n",
        "  with tf.io.TFRecordWriter(save_path) as writer:\n",
        "    # iterate through the dataset and serialize each element\n",
        "    for element in dataset:\n",
        "      serialized_element = tf.io.serialize_tensor(element)\n",
        "      # write the serialized element to the file\n",
        "      writer.write(serialized_element)\n"
      ],
      "metadata": {
        "id": "8g3rtB5tzFEQ"
      },
      "execution_count": null,
      "outputs": []
    },
    {
      "cell_type": "code",
      "source": [
        "import tensorflow.compat.v1 as tf\n",
        "import math\n",
        "import numpy as np"
      ],
      "metadata": {
        "id": "uP_4MyqXuwRg"
      },
      "execution_count": null,
      "outputs": []
    },
    {
      "cell_type": "markdown",
      "source": [
        "# Rewrite parsed data as json"
      ],
      "metadata": {
        "id": "SVkxtMk2X3hM"
      }
    },
    {
      "cell_type": "code",
      "source": [
        "import json\n",
        "\n",
        "for i,f in enumerate(file_paths):\n",
        "  dataset = tf.data.TFRecordDataset(file_paths[i])\n",
        "  data = next(dataset.as_numpy_iterator())\n",
        "  parsed = tf.io.parse_single_example(data, features_description)\n",
        "\n",
        "\n",
        "# convert any non-serializable data types to a serializable data type\n",
        "  for key, value in parsed.items():\n",
        "      if isinstance(value, tf.Tensor):\n",
        "          parsed[key] = value.numpy().tolist()\n",
        "\n",
        "# dump the modified dictionary to a JSON file\n",
        "  with open('/content/drive/Shareddrives/Waymo Data Challenge/Rewrited data-Waymo Motion/scenario_json/testing/'+ str(i) +'.json', 'w') as a:\n",
        "      json.dump(parsed, a)"
      ],
      "metadata": {
        "id": "ggEaPO4U0w_G"
      },
      "execution_count": null,
      "outputs": []
    }
  ]
}